{
 "cells": [
  {
   "cell_type": "code",
   "execution_count": 1,
   "metadata": {},
   "outputs": [],
   "source": [
    "import numpy as np \n",
    "import pandas as pd  \n",
    "from sklearn.preprocessing import LabelEncoder\n",
    "from sklearn.feature_extraction.text import TfidfVectorizer\n",
    "from sklearn.model_selection import train_test_split\n",
    "from sklearn.metrics import (accuracy_score, classification_report, \n",
    "                             confusion_matrix, roc_auc_score, roc_curve, \n",
    "                             matthews_corrcoef, log_loss)\n",
    "import matplotlib.pyplot as plt\n",
    "from sklearn.svm import SVC\n",
    "from xgboost import XGBClassifier\n",
    "from sklearn.ensemble import RandomForestClassifier\n",
    "from sklearn.svm import LinearSVC\n",
    "from sklearn.calibration import CalibratedClassifierCV\n",
    "from sklearn.linear_model import LogisticRegression\n",
    "import seaborn as sns\n",
    "from sklearn.feature_extraction.text import CountVectorizer\n",
    "from wordcloud import WordCloud\n",
    "import re\n",
    "from itertools import product\n",
    "import time\n",
    "from sklearn.ensemble import VotingClassifier\n",
    "from tqdm import tqdm\n",
    "from sklearn.base import BaseEstimator, ClassifierMixin\n",
    "from sklearn.metrics import precision_score, recall_score, f1_score\n",
    "import pickle"
   ]
  },
  {
   "cell_type": "markdown",
   "metadata": {},
   "source": [
    "# Import Model"
   ]
  },
  {
   "cell_type": "code",
   "execution_count": 7,
   "metadata": {},
   "outputs": [],
   "source": [
    "# Load the SVM model\n",
    "with open('../Model/80k_svm_classic.pkl', 'rb') as f:\n",
    "    loaded_svm_model = pickle.load(f)\n",
    "\n",
    "# # Load the Stacking Classifier model\n",
    "# with open('Notebook/stacking_clf.pkl', 'rb') as f:\n",
    "#     loaded_stacking_model = pickle.load(f)\n",
    "\n",
    "# Load the logistic regression model\n",
    "with open('../Model/80000_logreg_classic.pkl', 'rb') as f:\n",
    "    loaded_logreg_model = pickle.load(f)"
   ]
  },
  {
   "cell_type": "code",
   "execution_count": 8,
   "metadata": {},
   "outputs": [],
   "source": [
    "def preprocess_text(text, unwanted_terms):\n",
    "    text = text.lower()\n",
    "    text = re.sub(r'\\b\\d+\\b', '', text) \n",
    "    text = re.sub(r'\\b(?:mon|tue|wed|thu|fri|sat|sun)\\b', '', text, flags=re.IGNORECASE) \n",
    "    text = re.sub(r'\\b(?:jan|feb|mar|apr|may|jun|jul|aug|sep|oct|nov|dec)\\b', '', text, flags=re.IGNORECASE)  \n",
    "    for term in unwanted_terms:\n",
    "        text = re.sub(rf'\\b{term}\\b', '', text, flags=re.IGNORECASE)\n",
    "    text = re.sub(r'[^\\w\\s]', '', text)  \n",
    "    text = re.sub(r'\\s+', ' ', text).strip()  \n",
    "\n",
    "    return text"
   ]
  },
  {
   "cell_type": "code",
   "execution_count": 10,
   "metadata": {},
   "outputs": [
    {
     "name": "stdout",
     "output_type": "stream",
     "text": [
      "                                       text_combined\n",
      "0  URGENT! Your account has been suspended. Click...\n"
     ]
    }
   ],
   "source": [
    "import pandas as pd\n",
    "\n",
    "# Create synthetic phishing and non-phishing emails\n",
    "test_samples = pd.DataFrame({\n",
    "    'text_combined': [\n",
    "        # Non-phishing email\n",
    "        \"URGENT! Your account has been suspended. Click here immediately to verify your information and avoid closure: http://fakebank.verify-now.com\"    ]\n",
    "})\n",
    "\n",
    "# Preview the test samples\n",
    "print(test_samples)\n"
   ]
  },
  {
   "cell_type": "code",
   "execution_count": 11,
   "metadata": {},
   "outputs": [],
   "source": [
    "unwanted_terms = ['enron', 'hpl', 'nom', 'forwarded'] \n",
    "test_samples['text_combined'] = test_samples['text_combined'].apply(lambda x: preprocess_text(x, unwanted_terms))"
   ]
  },
  {
   "cell_type": "code",
   "execution_count": 14,
   "metadata": {},
   "outputs": [],
   "source": [
    "df = pd.read_csv('../Dataset/phishing_email.csv')"
   ]
  },
  {
   "cell_type": "code",
   "execution_count": 15,
   "metadata": {},
   "outputs": [],
   "source": [
    "df = df.dropna()\n",
    "df = df.drop_duplicates()"
   ]
  },
  {
   "cell_type": "code",
   "execution_count": 16,
   "metadata": {},
   "outputs": [
    {
     "name": "stdout",
     "output_type": "stream",
     "text": [
      "label\n",
      "1    42845\n",
      "0    39233\n",
      "Name: count, dtype: int64\n"
     ]
    }
   ],
   "source": [
    "print(df['label'].value_counts())\n",
    "phishing_emails = df[df['label'] == 1]\n",
    "non_phishing_emails = df[df['label'] == 0]"
   ]
  },
  {
   "cell_type": "code",
   "execution_count": 20,
   "metadata": {},
   "outputs": [],
   "source": [
    "phishing_sample = phishing_emails.sample(n=39000, random_state=42)\n",
    "non_phishing_sample = non_phishing_emails.sample(n=39000, random_state=42)\n",
    "df_sample = pd.concat([phishing_sample, non_phishing_sample]).reset_index(drop=True)\n",
    "df_sample = df_sample.sample(frac=1, random_state=42).reset_index(drop=True)"
   ]
  },
  {
   "cell_type": "code",
   "execution_count": 21,
   "metadata": {},
   "outputs": [],
   "source": [
    "X = df_sample['text_combined'] \n",
    "y = df_sample['label']         \n",
    "X_train, X_test, y_train, y_test = train_test_split(X, y, test_size=0.3, random_state=42, stratify=y)"
   ]
  },
  {
   "cell_type": "code",
   "execution_count": 22,
   "metadata": {},
   "outputs": [],
   "source": [
    "tfidf = TfidfVectorizer(max_features=5000)\n",
    "X_train_tfidf = tfidf.fit_transform(X_train)\n",
    "test_sample_tfidf = tfidf.transform(test_samples)\n",
    "X_test_tfidf = tfidf.transform(X_test)"
   ]
  },
  {
   "cell_type": "code",
   "execution_count": 237,
   "metadata": {},
   "outputs": [],
   "source": [
    "# c-values for svm\n",
    "c_values = np.logspace(-3, 3, 10) #\n",
    "accuracy_scores = []\n",
    "error_rates = []\n",
    "for c in c_values:\n",
    "    loaded_svm_model = SVC(kernel='linear', probability=True, C=c, random_state=42)\n",
    "    loaded_svm_model.fit(X_train_tfidf, y_train)\n",
    "    y_pred_svm = loaded_svm_model.predict(X_test_tfidf)\n",
    "    acc = accuracy_score(y_test, y_pred_svm)\n",
    "    error_rate = 1 - acc\n",
    "    accuracy_scores.append(acc)\n",
    "    error_rates.append(error_rate)"
   ]
  },
  {
   "cell_type": "code",
   "execution_count": 23,
   "metadata": {},
   "outputs": [
    {
     "name": "stdout",
     "output_type": "stream",
     "text": [
      "Predictions: [1]\n"
     ]
    }
   ],
   "source": [
    "# Assuming your model is called 'stacking_model' or 'svm_model'\n",
    "predictions = loaded_logreg_model.predict(test_sample_tfidf)\n",
    "\n",
    "print(\"Predictions:\", predictions)"
   ]
  },
  {
   "cell_type": "markdown",
   "metadata": {},
   "source": [
    "# Testing with 100 phishing email"
   ]
  },
  {
   "cell_type": "code",
   "execution_count": 24,
   "metadata": {},
   "outputs": [
    {
     "ename": "FileNotFoundError",
     "evalue": "[Errno 2] No such file or directory: 'phising email 100.csv'",
     "output_type": "error",
     "traceback": [
      "\u001b[0;31m---------------------------------------------------------------------------\u001b[0m",
      "\u001b[0;31mFileNotFoundError\u001b[0m                         Traceback (most recent call last)",
      "Cell \u001b[0;32mIn[24], line 1\u001b[0m\n\u001b[0;32m----> 1\u001b[0m df_test \u001b[38;5;241m=\u001b[39m \u001b[43mpd\u001b[49m\u001b[38;5;241;43m.\u001b[39;49m\u001b[43mread_csv\u001b[49m\u001b[43m(\u001b[49m\u001b[38;5;124;43m'\u001b[39;49m\u001b[38;5;124;43mphising email 100.csv\u001b[39;49m\u001b[38;5;124;43m'\u001b[39;49m\u001b[43m)\u001b[49m\n\u001b[1;32m      2\u001b[0m df_test\u001b[38;5;241m.\u001b[39mhead()\n\u001b[1;32m      4\u001b[0m \u001b[38;5;28;01mdef\u001b[39;00m\u001b[38;5;250m \u001b[39m\u001b[38;5;21mpreprocess_text\u001b[39m(text, unwanted_terms):\n",
      "File \u001b[0;32m~/.local/lib/python3.12/site-packages/pandas/io/parsers/readers.py:1026\u001b[0m, in \u001b[0;36mread_csv\u001b[0;34m(filepath_or_buffer, sep, delimiter, header, names, index_col, usecols, dtype, engine, converters, true_values, false_values, skipinitialspace, skiprows, skipfooter, nrows, na_values, keep_default_na, na_filter, verbose, skip_blank_lines, parse_dates, infer_datetime_format, keep_date_col, date_parser, date_format, dayfirst, cache_dates, iterator, chunksize, compression, thousands, decimal, lineterminator, quotechar, quoting, doublequote, escapechar, comment, encoding, encoding_errors, dialect, on_bad_lines, delim_whitespace, low_memory, memory_map, float_precision, storage_options, dtype_backend)\u001b[0m\n\u001b[1;32m   1013\u001b[0m kwds_defaults \u001b[38;5;241m=\u001b[39m _refine_defaults_read(\n\u001b[1;32m   1014\u001b[0m     dialect,\n\u001b[1;32m   1015\u001b[0m     delimiter,\n\u001b[0;32m   (...)\u001b[0m\n\u001b[1;32m   1022\u001b[0m     dtype_backend\u001b[38;5;241m=\u001b[39mdtype_backend,\n\u001b[1;32m   1023\u001b[0m )\n\u001b[1;32m   1024\u001b[0m kwds\u001b[38;5;241m.\u001b[39mupdate(kwds_defaults)\n\u001b[0;32m-> 1026\u001b[0m \u001b[38;5;28;01mreturn\u001b[39;00m \u001b[43m_read\u001b[49m\u001b[43m(\u001b[49m\u001b[43mfilepath_or_buffer\u001b[49m\u001b[43m,\u001b[49m\u001b[43m \u001b[49m\u001b[43mkwds\u001b[49m\u001b[43m)\u001b[49m\n",
      "File \u001b[0;32m~/.local/lib/python3.12/site-packages/pandas/io/parsers/readers.py:620\u001b[0m, in \u001b[0;36m_read\u001b[0;34m(filepath_or_buffer, kwds)\u001b[0m\n\u001b[1;32m    617\u001b[0m _validate_names(kwds\u001b[38;5;241m.\u001b[39mget(\u001b[38;5;124m\"\u001b[39m\u001b[38;5;124mnames\u001b[39m\u001b[38;5;124m\"\u001b[39m, \u001b[38;5;28;01mNone\u001b[39;00m))\n\u001b[1;32m    619\u001b[0m \u001b[38;5;66;03m# Create the parser.\u001b[39;00m\n\u001b[0;32m--> 620\u001b[0m parser \u001b[38;5;241m=\u001b[39m \u001b[43mTextFileReader\u001b[49m\u001b[43m(\u001b[49m\u001b[43mfilepath_or_buffer\u001b[49m\u001b[43m,\u001b[49m\u001b[43m \u001b[49m\u001b[38;5;241;43m*\u001b[39;49m\u001b[38;5;241;43m*\u001b[39;49m\u001b[43mkwds\u001b[49m\u001b[43m)\u001b[49m\n\u001b[1;32m    622\u001b[0m \u001b[38;5;28;01mif\u001b[39;00m chunksize \u001b[38;5;129;01mor\u001b[39;00m iterator:\n\u001b[1;32m    623\u001b[0m     \u001b[38;5;28;01mreturn\u001b[39;00m parser\n",
      "File \u001b[0;32m~/.local/lib/python3.12/site-packages/pandas/io/parsers/readers.py:1620\u001b[0m, in \u001b[0;36mTextFileReader.__init__\u001b[0;34m(self, f, engine, **kwds)\u001b[0m\n\u001b[1;32m   1617\u001b[0m     \u001b[38;5;28mself\u001b[39m\u001b[38;5;241m.\u001b[39moptions[\u001b[38;5;124m\"\u001b[39m\u001b[38;5;124mhas_index_names\u001b[39m\u001b[38;5;124m\"\u001b[39m] \u001b[38;5;241m=\u001b[39m kwds[\u001b[38;5;124m\"\u001b[39m\u001b[38;5;124mhas_index_names\u001b[39m\u001b[38;5;124m\"\u001b[39m]\n\u001b[1;32m   1619\u001b[0m \u001b[38;5;28mself\u001b[39m\u001b[38;5;241m.\u001b[39mhandles: IOHandles \u001b[38;5;241m|\u001b[39m \u001b[38;5;28;01mNone\u001b[39;00m \u001b[38;5;241m=\u001b[39m \u001b[38;5;28;01mNone\u001b[39;00m\n\u001b[0;32m-> 1620\u001b[0m \u001b[38;5;28mself\u001b[39m\u001b[38;5;241m.\u001b[39m_engine \u001b[38;5;241m=\u001b[39m \u001b[38;5;28;43mself\u001b[39;49m\u001b[38;5;241;43m.\u001b[39;49m\u001b[43m_make_engine\u001b[49m\u001b[43m(\u001b[49m\u001b[43mf\u001b[49m\u001b[43m,\u001b[49m\u001b[43m \u001b[49m\u001b[38;5;28;43mself\u001b[39;49m\u001b[38;5;241;43m.\u001b[39;49m\u001b[43mengine\u001b[49m\u001b[43m)\u001b[49m\n",
      "File \u001b[0;32m~/.local/lib/python3.12/site-packages/pandas/io/parsers/readers.py:1880\u001b[0m, in \u001b[0;36mTextFileReader._make_engine\u001b[0;34m(self, f, engine)\u001b[0m\n\u001b[1;32m   1878\u001b[0m     \u001b[38;5;28;01mif\u001b[39;00m \u001b[38;5;124m\"\u001b[39m\u001b[38;5;124mb\u001b[39m\u001b[38;5;124m\"\u001b[39m \u001b[38;5;129;01mnot\u001b[39;00m \u001b[38;5;129;01min\u001b[39;00m mode:\n\u001b[1;32m   1879\u001b[0m         mode \u001b[38;5;241m+\u001b[39m\u001b[38;5;241m=\u001b[39m \u001b[38;5;124m\"\u001b[39m\u001b[38;5;124mb\u001b[39m\u001b[38;5;124m\"\u001b[39m\n\u001b[0;32m-> 1880\u001b[0m \u001b[38;5;28mself\u001b[39m\u001b[38;5;241m.\u001b[39mhandles \u001b[38;5;241m=\u001b[39m \u001b[43mget_handle\u001b[49m\u001b[43m(\u001b[49m\n\u001b[1;32m   1881\u001b[0m \u001b[43m    \u001b[49m\u001b[43mf\u001b[49m\u001b[43m,\u001b[49m\n\u001b[1;32m   1882\u001b[0m \u001b[43m    \u001b[49m\u001b[43mmode\u001b[49m\u001b[43m,\u001b[49m\n\u001b[1;32m   1883\u001b[0m \u001b[43m    \u001b[49m\u001b[43mencoding\u001b[49m\u001b[38;5;241;43m=\u001b[39;49m\u001b[38;5;28;43mself\u001b[39;49m\u001b[38;5;241;43m.\u001b[39;49m\u001b[43moptions\u001b[49m\u001b[38;5;241;43m.\u001b[39;49m\u001b[43mget\u001b[49m\u001b[43m(\u001b[49m\u001b[38;5;124;43m\"\u001b[39;49m\u001b[38;5;124;43mencoding\u001b[39;49m\u001b[38;5;124;43m\"\u001b[39;49m\u001b[43m,\u001b[49m\u001b[43m \u001b[49m\u001b[38;5;28;43;01mNone\u001b[39;49;00m\u001b[43m)\u001b[49m\u001b[43m,\u001b[49m\n\u001b[1;32m   1884\u001b[0m \u001b[43m    \u001b[49m\u001b[43mcompression\u001b[49m\u001b[38;5;241;43m=\u001b[39;49m\u001b[38;5;28;43mself\u001b[39;49m\u001b[38;5;241;43m.\u001b[39;49m\u001b[43moptions\u001b[49m\u001b[38;5;241;43m.\u001b[39;49m\u001b[43mget\u001b[49m\u001b[43m(\u001b[49m\u001b[38;5;124;43m\"\u001b[39;49m\u001b[38;5;124;43mcompression\u001b[39;49m\u001b[38;5;124;43m\"\u001b[39;49m\u001b[43m,\u001b[49m\u001b[43m \u001b[49m\u001b[38;5;28;43;01mNone\u001b[39;49;00m\u001b[43m)\u001b[49m\u001b[43m,\u001b[49m\n\u001b[1;32m   1885\u001b[0m \u001b[43m    \u001b[49m\u001b[43mmemory_map\u001b[49m\u001b[38;5;241;43m=\u001b[39;49m\u001b[38;5;28;43mself\u001b[39;49m\u001b[38;5;241;43m.\u001b[39;49m\u001b[43moptions\u001b[49m\u001b[38;5;241;43m.\u001b[39;49m\u001b[43mget\u001b[49m\u001b[43m(\u001b[49m\u001b[38;5;124;43m\"\u001b[39;49m\u001b[38;5;124;43mmemory_map\u001b[39;49m\u001b[38;5;124;43m\"\u001b[39;49m\u001b[43m,\u001b[49m\u001b[43m \u001b[49m\u001b[38;5;28;43;01mFalse\u001b[39;49;00m\u001b[43m)\u001b[49m\u001b[43m,\u001b[49m\n\u001b[1;32m   1886\u001b[0m \u001b[43m    \u001b[49m\u001b[43mis_text\u001b[49m\u001b[38;5;241;43m=\u001b[39;49m\u001b[43mis_text\u001b[49m\u001b[43m,\u001b[49m\n\u001b[1;32m   1887\u001b[0m \u001b[43m    \u001b[49m\u001b[43merrors\u001b[49m\u001b[38;5;241;43m=\u001b[39;49m\u001b[38;5;28;43mself\u001b[39;49m\u001b[38;5;241;43m.\u001b[39;49m\u001b[43moptions\u001b[49m\u001b[38;5;241;43m.\u001b[39;49m\u001b[43mget\u001b[49m\u001b[43m(\u001b[49m\u001b[38;5;124;43m\"\u001b[39;49m\u001b[38;5;124;43mencoding_errors\u001b[39;49m\u001b[38;5;124;43m\"\u001b[39;49m\u001b[43m,\u001b[49m\u001b[43m \u001b[49m\u001b[38;5;124;43m\"\u001b[39;49m\u001b[38;5;124;43mstrict\u001b[39;49m\u001b[38;5;124;43m\"\u001b[39;49m\u001b[43m)\u001b[49m\u001b[43m,\u001b[49m\n\u001b[1;32m   1888\u001b[0m \u001b[43m    \u001b[49m\u001b[43mstorage_options\u001b[49m\u001b[38;5;241;43m=\u001b[39;49m\u001b[38;5;28;43mself\u001b[39;49m\u001b[38;5;241;43m.\u001b[39;49m\u001b[43moptions\u001b[49m\u001b[38;5;241;43m.\u001b[39;49m\u001b[43mget\u001b[49m\u001b[43m(\u001b[49m\u001b[38;5;124;43m\"\u001b[39;49m\u001b[38;5;124;43mstorage_options\u001b[39;49m\u001b[38;5;124;43m\"\u001b[39;49m\u001b[43m,\u001b[49m\u001b[43m \u001b[49m\u001b[38;5;28;43;01mNone\u001b[39;49;00m\u001b[43m)\u001b[49m\u001b[43m,\u001b[49m\n\u001b[1;32m   1889\u001b[0m \u001b[43m\u001b[49m\u001b[43m)\u001b[49m\n\u001b[1;32m   1890\u001b[0m \u001b[38;5;28;01massert\u001b[39;00m \u001b[38;5;28mself\u001b[39m\u001b[38;5;241m.\u001b[39mhandles \u001b[38;5;129;01mis\u001b[39;00m \u001b[38;5;129;01mnot\u001b[39;00m \u001b[38;5;28;01mNone\u001b[39;00m\n\u001b[1;32m   1891\u001b[0m f \u001b[38;5;241m=\u001b[39m \u001b[38;5;28mself\u001b[39m\u001b[38;5;241m.\u001b[39mhandles\u001b[38;5;241m.\u001b[39mhandle\n",
      "File \u001b[0;32m~/.local/lib/python3.12/site-packages/pandas/io/common.py:873\u001b[0m, in \u001b[0;36mget_handle\u001b[0;34m(path_or_buf, mode, encoding, compression, memory_map, is_text, errors, storage_options)\u001b[0m\n\u001b[1;32m    868\u001b[0m \u001b[38;5;28;01melif\u001b[39;00m \u001b[38;5;28misinstance\u001b[39m(handle, \u001b[38;5;28mstr\u001b[39m):\n\u001b[1;32m    869\u001b[0m     \u001b[38;5;66;03m# Check whether the filename is to be opened in binary mode.\u001b[39;00m\n\u001b[1;32m    870\u001b[0m     \u001b[38;5;66;03m# Binary mode does not support 'encoding' and 'newline'.\u001b[39;00m\n\u001b[1;32m    871\u001b[0m     \u001b[38;5;28;01mif\u001b[39;00m ioargs\u001b[38;5;241m.\u001b[39mencoding \u001b[38;5;129;01mand\u001b[39;00m \u001b[38;5;124m\"\u001b[39m\u001b[38;5;124mb\u001b[39m\u001b[38;5;124m\"\u001b[39m \u001b[38;5;129;01mnot\u001b[39;00m \u001b[38;5;129;01min\u001b[39;00m ioargs\u001b[38;5;241m.\u001b[39mmode:\n\u001b[1;32m    872\u001b[0m         \u001b[38;5;66;03m# Encoding\u001b[39;00m\n\u001b[0;32m--> 873\u001b[0m         handle \u001b[38;5;241m=\u001b[39m \u001b[38;5;28;43mopen\u001b[39;49m\u001b[43m(\u001b[49m\n\u001b[1;32m    874\u001b[0m \u001b[43m            \u001b[49m\u001b[43mhandle\u001b[49m\u001b[43m,\u001b[49m\n\u001b[1;32m    875\u001b[0m \u001b[43m            \u001b[49m\u001b[43mioargs\u001b[49m\u001b[38;5;241;43m.\u001b[39;49m\u001b[43mmode\u001b[49m\u001b[43m,\u001b[49m\n\u001b[1;32m    876\u001b[0m \u001b[43m            \u001b[49m\u001b[43mencoding\u001b[49m\u001b[38;5;241;43m=\u001b[39;49m\u001b[43mioargs\u001b[49m\u001b[38;5;241;43m.\u001b[39;49m\u001b[43mencoding\u001b[49m\u001b[43m,\u001b[49m\n\u001b[1;32m    877\u001b[0m \u001b[43m            \u001b[49m\u001b[43merrors\u001b[49m\u001b[38;5;241;43m=\u001b[39;49m\u001b[43merrors\u001b[49m\u001b[43m,\u001b[49m\n\u001b[1;32m    878\u001b[0m \u001b[43m            \u001b[49m\u001b[43mnewline\u001b[49m\u001b[38;5;241;43m=\u001b[39;49m\u001b[38;5;124;43m\"\u001b[39;49m\u001b[38;5;124;43m\"\u001b[39;49m\u001b[43m,\u001b[49m\n\u001b[1;32m    879\u001b[0m \u001b[43m        \u001b[49m\u001b[43m)\u001b[49m\n\u001b[1;32m    880\u001b[0m     \u001b[38;5;28;01melse\u001b[39;00m:\n\u001b[1;32m    881\u001b[0m         \u001b[38;5;66;03m# Binary mode\u001b[39;00m\n\u001b[1;32m    882\u001b[0m         handle \u001b[38;5;241m=\u001b[39m \u001b[38;5;28mopen\u001b[39m(handle, ioargs\u001b[38;5;241m.\u001b[39mmode)\n",
      "\u001b[0;31mFileNotFoundError\u001b[0m: [Errno 2] No such file or directory: 'phising email 100.csv'"
     ]
    }
   ],
   "source": [
    "df_test = pd.read_csv('phising email 100.csv')\n",
    "df_test.head()\n",
    "\n",
    "def preprocess_text(text, unwanted_terms):\n",
    "    text = text.lower()\n",
    "    text = re.sub(r'\\b\\d+\\b', '', text) \n",
    "    text = re.sub(r'\\b(?:mon|tue|wed|thu|fri|sat|sun)\\b', '', text, flags=re.IGNORECASE) \n",
    "    text = re.sub(r'\\b(?:jan|feb|mar|apr|may|jun|jul|aug|sep|oct|nov|dec)\\b', '', text, flags=re.IGNORECASE)  \n",
    "    for term in unwanted_terms:\n",
    "        text = re.sub(rf'\\b{term}\\b', '', text, flags=re.IGNORECASE)\n",
    "    text = re.sub(r'[^\\w\\s]', '', text)  \n",
    "    text = re.sub(r'\\s+', ' ', text).strip()  \n",
    "    return text\n",
    "\n",
    "unwanted_terms = ['enron', 'hpl', 'nom', 'forwarded']\n",
    "df_test['text_combined'] = df_test['text_combined'].apply(lambda x: preprocess_text(x, unwanted_terms))\n",
    "\n",
    "X_train = df['text_combined']\n",
    "X_train = X_train.apply(lambda x: preprocess_text(x, unwanted_terms))\n",
    "\n",
    "tfidf = TfidfVectorizer(max_features=5000)\n",
    "X_train_tfidf = tfidf.fit_transform(X_train)\n",
    "\n",
    "X_test_tfidf = tfidf.transform(df_test['text_combined'])"
   ]
  },
  {
   "cell_type": "code",
   "execution_count": 42,
   "metadata": {},
   "outputs": [],
   "source": [
    "predictions = loaded_svm_model.predict(X_test_tfidf)"
   ]
  },
  {
   "cell_type": "code",
   "execution_count": 43,
   "metadata": {},
   "outputs": [
    {
     "ename": "NameError",
     "evalue": "name 'df_test' is not defined",
     "output_type": "error",
     "traceback": [
      "\u001b[0;31m---------------------------------------------------------------------------\u001b[0m",
      "\u001b[0;31mNameError\u001b[0m                                 Traceback (most recent call last)",
      "Cell \u001b[0;32mIn[43], line 2\u001b[0m\n\u001b[1;32m      1\u001b[0m \u001b[38;5;66;03m# 9. Attach predictions to test samples\u001b[39;00m\n\u001b[0;32m----> 2\u001b[0m \u001b[43mdf_test\u001b[49m[\u001b[38;5;124m'\u001b[39m\u001b[38;5;124mpredicted_label\u001b[39m\u001b[38;5;124m'\u001b[39m] \u001b[38;5;241m=\u001b[39m predictions\n\u001b[1;32m      4\u001b[0m \u001b[38;5;66;03m# 10. Map numeric labels to readable text\u001b[39;00m\n\u001b[1;32m      5\u001b[0m label_mapping \u001b[38;5;241m=\u001b[39m {\u001b[38;5;241m0\u001b[39m: \u001b[38;5;124m'\u001b[39m\u001b[38;5;124mNon-Phishing\u001b[39m\u001b[38;5;124m'\u001b[39m, \u001b[38;5;241m1\u001b[39m: \u001b[38;5;124m'\u001b[39m\u001b[38;5;124mPhishing\u001b[39m\u001b[38;5;124m'\u001b[39m}\n",
      "\u001b[0;31mNameError\u001b[0m: name 'df_test' is not defined"
     ]
    }
   ],
   "source": [
    "# 9. Attach predictions to test samples\n",
    "df_test['predicted_label'] = predictions\n",
    "\n",
    "# 10. Map numeric labels to readable text\n",
    "label_mapping = {0: 'Non-Phishing', 1: 'Phishing'}\n",
    "df_test['predicted_label_text'] = df_test['predicted_label'].map(label_mapping)\n",
    "\n",
    "# 11. Show final results\n",
    "print(df_test[['text_combined', 'label', 'predicted_label_text']])"
   ]
  },
  {
   "cell_type": "code",
   "execution_count": 27,
   "metadata": {},
   "outputs": [
    {
     "ename": "NameError",
     "evalue": "name 'df_test' is not defined",
     "output_type": "error",
     "traceback": [
      "\u001b[0;31m---------------------------------------------------------------------------\u001b[0m",
      "\u001b[0;31mNameError\u001b[0m                                 Traceback (most recent call last)",
      "Cell \u001b[0;32mIn[27], line 6\u001b[0m\n\u001b[1;32m      4\u001b[0m \u001b[38;5;66;03m# 1. Map the true labels based on your custom rule\u001b[39;00m\n\u001b[1;32m      5\u001b[0m true_label_mapping \u001b[38;5;241m=\u001b[39m {\u001b[38;5;241m0\u001b[39m: \u001b[38;5;124m'\u001b[39m\u001b[38;5;124mNon-Phishing\u001b[39m\u001b[38;5;124m'\u001b[39m, \u001b[38;5;241m1\u001b[39m: \u001b[38;5;124m'\u001b[39m\u001b[38;5;124mPhishing\u001b[39m\u001b[38;5;124m'\u001b[39m}\n\u001b[0;32m----> 6\u001b[0m df_test[\u001b[38;5;124m'\u001b[39m\u001b[38;5;124mtrue_label_text\u001b[39m\u001b[38;5;124m'\u001b[39m] \u001b[38;5;241m=\u001b[39m \u001b[43mdf_test\u001b[49m[\u001b[38;5;124m'\u001b[39m\u001b[38;5;124mlabel\u001b[39m\u001b[38;5;124m'\u001b[39m]\u001b[38;5;241m.\u001b[39mmap(true_label_mapping)\n\u001b[1;32m      8\u001b[0m \u001b[38;5;66;03m# 2. Count predictions\u001b[39;00m\n\u001b[1;32m      9\u001b[0m predicted_counts \u001b[38;5;241m=\u001b[39m df_test[\u001b[38;5;124m'\u001b[39m\u001b[38;5;124mpredicted_label_text\u001b[39m\u001b[38;5;124m'\u001b[39m]\u001b[38;5;241m.\u001b[39mvalue_counts()\n",
      "\u001b[0;31mNameError\u001b[0m: name 'df_test' is not defined"
     ]
    }
   ],
   "source": [
    "from sklearn.metrics import accuracy_score, confusion_matrix, ConfusionMatrixDisplay\n",
    "import matplotlib.pyplot as plt\n",
    "\n",
    "# 1. Map the true labels based on your custom rule\n",
    "true_label_mapping = {0: 'Non-Phishing', 1: 'Phishing'}\n",
    "df_test['true_label_text'] = df_test['label'].map(true_label_mapping)\n",
    "\n",
    "# 2. Count predictions\n",
    "predicted_counts = df_test['predicted_label_text'].value_counts()\n",
    "\n",
    "# 3. Count true labels\n",
    "true_counts = df_test['true_label_text'].value_counts()\n",
    "\n",
    "# 4. Display the counts\n",
    "print(\"=== Predicted Label Counts ===\")\n",
    "print(predicted_counts)\n",
    "print(\"\\n=== True Label Counts ===\")\n",
    "print(true_counts)\n",
    "\n",
    "# 5. Comparison Table\n",
    "comparison_df = pd.DataFrame({\n",
    "    'True Count': true_counts,\n",
    "    'Predicted Count': predicted_counts\n",
    "}).fillna(0).astype(int)\n",
    "\n",
    "print(\"\\n=== Comparison Table ===\")\n",
    "print(comparison_df)\n",
    "\n",
    "# 6. Calculate Accuracy\n",
    "accuracy = accuracy_score(df_test['true_label_text'], df_test['predicted_label_text'])\n",
    "print(f\"\\n=== Accuracy: {accuracy:.4f} ===\")\n",
    "\n",
    "# 7. Confusion Matrix\n",
    "cm = confusion_matrix(df_test['true_label_text'], df_test['predicted_label_text'], labels=['Phishing', 'Non-Phishing'])\n",
    "print(\"\\n=== Confusion Matrix ===\")\n",
    "print(cm)\n",
    "\n",
    "# 8. Plot Confusion Matrix\n",
    "disp = ConfusionMatrixDisplay(confusion_matrix=cm, display_labels=['Phishing', 'Non-Phishing'])\n",
    "disp.plot(cmap=plt.cm.Blues)\n",
    "plt.title('Confusion Matrix')\n",
    "plt.show()\n"
   ]
  },
  {
   "cell_type": "markdown",
   "metadata": {},
   "source": [
    "# From Input User"
   ]
  },
  {
   "cell_type": "code",
   "execution_count": 28,
   "metadata": {},
   "outputs": [
    {
     "name": "stdout",
     "output_type": "stream",
     "text": [
      "\n",
      "=== Prediction Result ===\n",
      "This email is: Phishing\n"
     ]
    }
   ],
   "source": [
    "# Function for preprocessing (reuse your code)\n",
    "def preprocess_text(text, unwanted_terms):\n",
    "    text = text.lower()\n",
    "    text = re.sub(r'\\b\\d+\\b', '', text) \n",
    "    text = re.sub(r'\\b(?:mon|tue|wed|thu|fri|sat|sun)\\b', '', text, flags=re.IGNORECASE) \n",
    "    text = re.sub(r'\\b(?:jan|feb|mar|apr|may|jun|jul|aug|sep|oct|nov|dec)\\b', '', text, flags=re.IGNORECASE)  \n",
    "    for term in unwanted_terms:\n",
    "        text = re.sub(rf'\\b{term}\\b', '', text, flags=re.IGNORECASE)\n",
    "    text = re.sub(r'[^\\w\\s]', '', text)  \n",
    "    text = re.sub(r'\\s+', ' ', text).strip()  \n",
    "    return text\n",
    "\n",
    "# List of unwanted terms\n",
    "unwanted_terms = ['enron', 'hpl', 'nom', 'forwarded']\n",
    "\n",
    "# Get input from user\n",
    "user_input = input(\"Please enter the email text you want to test:\\n\")\n",
    "\n",
    "# Preprocess the input\n",
    "preprocessed_input = preprocess_text(user_input, unwanted_terms)\n",
    "\n",
    "# Vectorize the input using the fitted TF-IDF\n",
    "input_vectorized = tfidf.transform([preprocessed_input])\n",
    "\n",
    "# Predict\n",
    "prediction = loaded_svm_model.predict(input_vectorized)[0]  # or use svm_model if you prefer\n",
    "\n",
    "# Map numeric prediction to text\n",
    "label_mapping = {0: 'Non-Phishing', 1: 'Phishing'}\n",
    "predicted_label_text = label_mapping[prediction]\n",
    "\n",
    "# Output\n",
    "print(f\"\\n=== Prediction Result ===\\nThis email is: {predicted_label_text}\")\n"
   ]
  },
  {
   "cell_type": "markdown",
   "metadata": {},
   "source": [
    "# Test with Nigerian_Fraud Data"
   ]
  },
  {
   "cell_type": "code",
   "execution_count": 30,
   "metadata": {},
   "outputs": [],
   "source": [
    "df_fraud = pd.read_csv('../Dataset/Nigerian_Fraud.csv')"
   ]
  },
  {
   "cell_type": "code",
   "execution_count": 31,
   "metadata": {},
   "outputs": [],
   "source": [
    "df_fraud = df_fraud.drop(columns=['sender', 'receiver', 'date', 'subject', 'urls'])"
   ]
  },
  {
   "cell_type": "code",
   "execution_count": 32,
   "metadata": {},
   "outputs": [],
   "source": [
    "df_fraud.head()\n",
    "\n",
    "def preprocess_text(text, unwanted_terms):\n",
    "    text = text.lower()\n",
    "    text = re.sub(r'\\b\\d+\\b', '', text) \n",
    "    text = re.sub(r'\\b(?:mon|tue|wed|thu|fri|sat|sun)\\b', '', text, flags=re.IGNORECASE) \n",
    "    text = re.sub(r'\\b(?:jan|feb|mar|apr|may|jun|jul|aug|sep|oct|nov|dec)\\b', '', text, flags=re.IGNORECASE)  \n",
    "    for term in unwanted_terms:\n",
    "        text = re.sub(rf'\\b{term}\\b', '', text, flags=re.IGNORECASE)\n",
    "    text = re.sub(r'[^\\w\\s]', '', text)  \n",
    "    text = re.sub(r'\\s+', ' ', text).strip()  \n",
    "    return text\n",
    "\n",
    "unwanted_terms = ['enron', 'hpl', 'nom', 'forwarded']\n",
    "df_fraud['body'] = df_fraud['body'].apply(lambda x: preprocess_text(x, unwanted_terms))\n",
    "\n",
    "X_train = df['text_combined']\n",
    "X_train = X_train.apply(lambda x: preprocess_text(x, unwanted_terms))\n",
    "\n",
    "tfidf = TfidfVectorizer(max_features=5000)\n",
    "X_train_tfidf = tfidf.fit_transform(X_train)\n",
    "\n",
    "X_test_tfidf = tfidf.transform(df_fraud['body'])"
   ]
  },
  {
   "cell_type": "code",
   "execution_count": 33,
   "metadata": {},
   "outputs": [
    {
     "name": "stdout",
     "output_type": "stream",
     "text": [
      "                                                   body  label  \\\n",
      "0     frommr james ngola confidential tel email jame...      1   \n",
      "1     dear friend i am mr ben suleman a custom offic...      1   \n",
      "2     from his royal majesty hrm crown ruler of elem...      1   \n",
      "3     from his royal majesty hrm crown ruler of elem...      1   \n",
      "4     dear sir it is with a heart full of hope that ...      1   \n",
      "...                                                 ...    ...   \n",
      "3327  atten my dear i have paid the fee for your che...      1   \n",
      "3328  from mr ali sherif african development bank ad...      1   \n",
      "3329  from dr usman ibrahim dankoauditing and accoun...      1   \n",
      "3330  beloved in the lord jesus christ please endeav...      1   \n",
      "3331  mrhuang chilin bank sinopac executive vice pre...      1   \n",
      "\n",
      "     predicted_label_text  \n",
      "0            Non-Phishing  \n",
      "1                Phishing  \n",
      "2                Phishing  \n",
      "3                Phishing  \n",
      "4            Non-Phishing  \n",
      "...                   ...  \n",
      "3327             Phishing  \n",
      "3328         Non-Phishing  \n",
      "3329             Phishing  \n",
      "3330             Phishing  \n",
      "3331         Non-Phishing  \n",
      "\n",
      "[3332 rows x 3 columns]\n"
     ]
    }
   ],
   "source": [
    "predictions = loaded_svm_model.predict(X_test_tfidf)\n",
    "\n",
    "# 9. Attach predictions to test samples\n",
    "df_fraud['predicted_label'] = predictions\n",
    "\n",
    "# 10. Map numeric labels to readable text\n",
    "label_mapping = {0: 'Non-Phishing', 1: 'Phishing'}\n",
    "df_fraud['predicted_label_text'] = df_fraud['predicted_label'].map(label_mapping)\n",
    "\n",
    "# 11. Show final results\n",
    "print(df_fraud[['body', 'label', 'predicted_label_text']])"
   ]
  },
  {
   "cell_type": "code",
   "execution_count": 34,
   "metadata": {},
   "outputs": [
    {
     "name": "stdout",
     "output_type": "stream",
     "text": [
      "=== Predicted Label Counts ===\n",
      "predicted_label_text\n",
      "Non-Phishing    2036\n",
      "Phishing        1296\n",
      "Name: count, dtype: int64\n",
      "\n",
      "=== True Label Counts ===\n",
      "true_label_text\n",
      "Phishing    3332\n",
      "Name: count, dtype: int64\n",
      "\n",
      "=== Comparison Table ===\n",
      "              True Count  Predicted Count\n",
      "Non-Phishing           0             2036\n",
      "Phishing            3332             1296\n",
      "\n",
      "=== Accuracy: 0.3890 ===\n",
      "\n",
      "=== Confusion Matrix ===\n",
      "[[1296 2036]\n",
      " [   0    0]]\n"
     ]
    },
    {
     "data": {
      "image/png": "[encoded data removed]",
      "text/plain": [
       "<Figure size 640x480 with 2 Axes>"
      ]
     },
     "metadata": {},
     "output_type": "display_data"
    }
   ],
   "source": [
    "from sklearn.metrics import accuracy_score, confusion_matrix, ConfusionMatrixDisplay\n",
    "import matplotlib.pyplot as plt\n",
    "\n",
    "# 1. Map the true labels based on your custom rule\n",
    "true_label_mapping = {0: 'Non-Phishing', 1: 'Phishing'}\n",
    "df_fraud['true_label_text'] = df_fraud['label'].map(true_label_mapping)\n",
    "\n",
    "# 2. Count predictions\n",
    "predicted_counts = df_fraud['predicted_label_text'].value_counts()\n",
    "\n",
    "# 3. Count true labels\n",
    "true_counts = df_fraud['true_label_text'].value_counts()\n",
    "\n",
    "# 4. Display the counts\n",
    "print(\"=== Predicted Label Counts ===\")\n",
    "print(predicted_counts)\n",
    "print(\"\\n=== True Label Counts ===\")\n",
    "print(true_counts)\n",
    "\n",
    "# 5. Comparison Table\n",
    "comparison_df = pd.DataFrame({\n",
    "    'True Count': true_counts,\n",
    "    'Predicted Count': predicted_counts\n",
    "}).fillna(0).astype(int)\n",
    "\n",
    "print(\"\\n=== Comparison Table ===\")\n",
    "print(comparison_df)\n",
    "\n",
    "# 6. Calculate Accuracy\n",
    "accuracy = accuracy_score(df_fraud['true_label_text'], df_fraud['predicted_label_text'])\n",
    "print(f\"\\n=== Accuracy: {accuracy:.4f} ===\")\n",
    "\n",
    "# 7. Confusion Matrix\n",
    "cm = confusion_matrix(df_fraud['true_label_text'], df_fraud['predicted_label_text'], labels=['Phishing', 'Non-Phishing'])\n",
    "print(\"\\n=== Confusion Matrix ===\")\n",
    "print(cm)\n",
    "\n",
    "# 8. Plot Confusion Matrix\n",
    "disp = ConfusionMatrixDisplay(confusion_matrix=cm, display_labels=['Phishing', 'Non-Phishing'])\n",
    "disp.plot(cmap=plt.cm.Blues)\n",
    "plt.title('Confusion Matrix')\n",
    "plt.show()\n"
   ]
  },
  {
   "cell_type": "markdown",
   "metadata": {},
   "source": [
    "# Test with Phishing Email"
   ]
  },
  {
   "cell_type": "code",
   "execution_count": 36,
   "metadata": {},
   "outputs": [],
   "source": [
    "df_phishing = pd.read_csv('../Dataset/phishing_email.csv')"
   ]
  },
  {
   "cell_type": "code",
   "execution_count": 37,
   "metadata": {},
   "outputs": [],
   "source": [
    "df_phishing.head()\n",
    "\n",
    "def preprocess_text(text, unwanted_terms):\n",
    "    text = text.lower()\n",
    "    text = re.sub(r'\\b\\d+\\b', '', text) \n",
    "    text = re.sub(r'\\b(?:mon|tue|wed|thu|fri|sat|sun)\\b', '', text, flags=re.IGNORECASE) \n",
    "    text = re.sub(r'\\b(?:jan|feb|mar|apr|may|jun|jul|aug|sep|oct|nov|dec)\\b', '', text, flags=re.IGNORECASE)  \n",
    "    for term in unwanted_terms:\n",
    "        text = re.sub(rf'\\b{term}\\b', '', text, flags=re.IGNORECASE)\n",
    "    text = re.sub(r'[^\\w\\s]', '', text)  \n",
    "    text = re.sub(r'\\s+', ' ', text).strip()  \n",
    "    return text\n",
    "\n",
    "unwanted_terms = ['enron', 'hpl', 'nom', 'forwarded']\n",
    "df_phishing['text_combined'] = df_phishing['text_combined'].apply(lambda x: preprocess_text(x, unwanted_terms))\n",
    "\n",
    "X_train = df['text_combined']\n",
    "X_train = X_train.apply(lambda x: preprocess_text(x, unwanted_terms))\n",
    "\n",
    "tfidf = TfidfVectorizer(max_features=5000)\n",
    "X_train_tfidf = tfidf.fit_transform(X_train)\n",
    "\n",
    "X_test_tfidf = tfidf.transform(df_phishing['text_combined'])"
   ]
  },
  {
   "cell_type": "code",
   "execution_count": 38,
   "metadata": {},
   "outputs": [
    {
     "name": "stdout",
     "output_type": "stream",
     "text": [
      "                                           text_combined  label  \\\n",
      "0                  see attached file hplno xls hplno xls      0   \n",
      "1      actual vols th sabrae zajac hou ect pm capital...      0   \n",
      "2      actuals march april estimated actuals march fl...      0   \n",
      "3                  see attached file hplno xls hplno xls      0   \n",
      "4             june see attached file hplno xls hplno xls      0   \n",
      "...                                                  ...    ...   \n",
      "82481  info advantageapartmentscom infoadvantageapart...      1   \n",
      "82482  monkeyorg helpdeskmonkeyorg monkeyorg hi josep...      1   \n",
      "82483  help center infohelpcentercoza_infohelpcenterc...      1   \n",
      "82484  metamask infosofamekarcom verify metamask wall...      1   \n",
      "82485  fastway infofastwaycoza_infofastwaycoza_infofa...      1   \n",
      "\n",
      "      predicted_label_text  \n",
      "0                 Phishing  \n",
      "1             Non-Phishing  \n",
      "2             Non-Phishing  \n",
      "3                 Phishing  \n",
      "4                 Phishing  \n",
      "...                    ...  \n",
      "82481         Non-Phishing  \n",
      "82482             Phishing  \n",
      "82483             Phishing  \n",
      "82484         Non-Phishing  \n",
      "82485             Phishing  \n",
      "\n",
      "[82486 rows x 3 columns]\n"
     ]
    }
   ],
   "source": [
    "predictions = loaded_logreg_model.predict(X_test_tfidf)\n",
    "\n",
    "# 9. Attach predictions to test samples\n",
    "df_phishing['predicted_label'] = predictions\n",
    "\n",
    "# 10. Map numeric labels to readable text\n",
    "label_mapping = {0: 'Non-Phishing', 1: 'Phishing'}\n",
    "df_phishing['predicted_label_text'] = df_phishing['predicted_label'].map(label_mapping)\n",
    "\n",
    "# 11. Show final results\n",
    "print(df_phishing[['text_combined', 'label', 'predicted_label_text']])"
   ]
  },
  {
   "cell_type": "code",
   "execution_count": 41,
   "metadata": {},
   "outputs": [
    {
     "name": "stdout",
     "output_type": "stream",
     "text": [
      "=== Predicted Label Counts ===\n",
      "predicted_label_text\n",
      "Non-Phishing    48345\n",
      "Phishing        34141\n",
      "Name: count, dtype: int64\n",
      "\n",
      "=== True Label Counts ===\n",
      "true_label_text\n",
      "Phishing        42891\n",
      "Non-Phishing    39595\n",
      "Name: count, dtype: int64\n",
      "\n",
      "=== Comparison Table ===\n",
      "              True Count  Predicted Count\n",
      "Non-Phishing       39595            48345\n",
      "Phishing           42891            34141\n",
      "\n",
      "=== Accuracy: 0.6096 ===\n",
      "\n",
      "=== Confusion Matrix ===\n",
      "[[22413 20478]\n",
      " [11728 27867]]\n"
     ]
    },
    {
     "data": {
      "image/png": "[encoded data removed]",
      "text/plain": [
       "<Figure size 640x480 with 2 Axes>"
      ]
     },
     "metadata": {},
     "output_type": "display_data"
    }
   ],
   "source": [
    "from sklearn.metrics import accuracy_score, confusion_matrix, ConfusionMatrixDisplay\n",
    "import matplotlib.pyplot as plt\n",
    "\n",
    "# 1. Map the true labels based on your custom rule\n",
    "true_label_mapping = {0: 'Non-Phishing', 1: 'Phishing'}\n",
    "df_phishing['true_label_text'] = df_phishing['label'].map(true_label_mapping)\n",
    "\n",
    "# 2. Count predictions\n",
    "predicted_counts = df_phishing['predicted_label_text'].value_counts()\n",
    "\n",
    "# 3. Count true labels\n",
    "true_counts = df_phishing['true_label_text'].value_counts()\n",
    "\n",
    "# 4. Display the counts\n",
    "print(\"=== Predicted Label Counts ===\")\n",
    "print(predicted_counts)\n",
    "print(\"\\n=== True Label Counts ===\")\n",
    "print(true_counts)\n",
    "\n",
    "# 5. Comparison Table\n",
    "comparison_df = pd.DataFrame({\n",
    "    'True Count': true_counts,\n",
    "    'Predicted Count': predicted_counts\n",
    "}).fillna(0).astype(int)\n",
    "\n",
    "print(\"\\n=== Comparison Table ===\")\n",
    "print(comparison_df)\n",
    "\n",
    "# 6. Calculate Accuracy\n",
    "accuracy = accuracy_score(df_phishing['true_label_text'], df_phishing['predicted_label_text'])\n",
    "print(f\"\\n=== Accuracy: {accuracy:.4f} ===\")\n",
    "\n",
    "# 7. Confusion Matrix\n",
    "cm = confusion_matrix(df_phishing['true_label_text'], df_phishing['predicted_label_text'], labels=['Phishing', 'Non-Phishing'])\n",
    "print(\"\\n=== Confusion Matrix ===\")\n",
    "print(cm)\n",
    "\n",
    "# 8. Plot Confusion Matrix\n",
    "disp = ConfusionMatrixDisplay(confusion_matrix=cm, display_labels=['Phishing', 'Non-Phishing'])\n",
    "disp.plot(cmap=plt.cm.Blues)\n",
    "plt.title('Confusion Matrix')\n",
    "plt.show()\n"
   ]
  },
  {
   "cell_type": "markdown",
   "metadata": {},
   "source": [
    "svm"
   ]
  },
  {
   "cell_type": "code",
   "execution_count": 44,
   "metadata": {},
   "outputs": [
    {
     "name": "stdout",
     "output_type": "stream",
     "text": [
      "                                           text_combined  label  \\\n",
      "0                  see attached file hplno xls hplno xls      0   \n",
      "1      actual vols th sabrae zajac hou ect pm capital...      0   \n",
      "2      actuals march april estimated actuals march fl...      0   \n",
      "3                  see attached file hplno xls hplno xls      0   \n",
      "4             june see attached file hplno xls hplno xls      0   \n",
      "...                                                  ...    ...   \n",
      "82481  info advantageapartmentscom infoadvantageapart...      1   \n",
      "82482  monkeyorg helpdeskmonkeyorg monkeyorg hi josep...      1   \n",
      "82483  help center infohelpcentercoza_infohelpcenterc...      1   \n",
      "82484  metamask infosofamekarcom verify metamask wall...      1   \n",
      "82485  fastway infofastwaycoza_infofastwaycoza_infofa...      1   \n",
      "\n",
      "      predicted_label_text  \n",
      "0                 Phishing  \n",
      "1             Non-Phishing  \n",
      "2             Non-Phishing  \n",
      "3                 Phishing  \n",
      "4                 Phishing  \n",
      "...                    ...  \n",
      "82481         Non-Phishing  \n",
      "82482             Phishing  \n",
      "82483             Phishing  \n",
      "82484         Non-Phishing  \n",
      "82485             Phishing  \n",
      "\n",
      "[82486 rows x 3 columns]\n"
     ]
    }
   ],
   "source": [
    "predictions = loaded_svm_model.predict(X_test_tfidf)\n",
    "\n",
    "# 9. Attach predictions to test samples\n",
    "df_phishing['predicted_label'] = predictions\n",
    "\n",
    "# 10. Map numeric labels to readable text\n",
    "label_mapping = {0: 'Non-Phishing', 1: 'Phishing'}\n",
    "df_phishing['predicted_label_text'] = df_phishing['predicted_label'].map(label_mapping)\n",
    "\n",
    "# 11. Show final results\n",
    "print(df_phishing[['text_combined', 'label', 'predicted_label_text']])"
   ]
  },
  {
   "cell_type": "code",
   "execution_count": null,
   "metadata": {},
   "outputs": [],
   "source": [
    "from sklearn.metrics import accuracy_score, confusion_matrix, ConfusionMatrixDisplay\n",
    "import matplotlib.pyplot as plt\n",
    "\n",
    "# 1. Map the true labels based on your custom rule\n",
    "true_label_mapping = {0: 'Non-Phishing', 1: 'Phishing'}\n",
    "df_phishing['true_label_text'] = df_phishing['label'].map(true_label_mapping)\n",
    "\n",
    "# 2. Count predictions\n",
    "predicted_counts = df_phishing['predicted_label_text'].value_counts()\n",
    "\n",
    "# 3. Count true labels\n",
    "true_counts = df_phishing['true_label_text'].value_counts()\n",
    "\n",
    "# 4. Display the counts\n",
    "print(\"=== Predicted Label Counts ===\")\n",
    "print(predicted_counts)\n",
    "print(\"\\n=== True Label Counts ===\")\n",
    "print(true_counts)\n",
    "\n",
    "# 5. Comparison Table\n",
    "comparison_df = pd.DataFrame({\n",
    "    'True Count': true_counts,\n",
    "    'Predicted Count': predicted_counts\n",
    "}).fillna(0).astype(int)\n",
    "\n",
    "print(\"\\n=== Comparison Table ===\")\n",
    "print(comparison_df)\n",
    "\n",
    "# 6. Calculate Accuracy\n",
    "accuracy = accuracy_score(df_phishing['true_label_text'], df_phishing['predicted_label_text'])\n",
    "print(f\"\\n=== Accuracy: {accuracy:.4f} ===\")\n",
    "\n",
    "# 7. Confusion Matrix\n",
    "cm = confusion_matrix(df_phishing['true_label_text'], df_phishing['predicted_label_text'], labels=['Phishing', 'Non-Phishing'])\n",
    "print(\"\\n=== Confusion Matrix ===\")\n",
    "print(cm)\n",
    "\n",
    "# 8. Plot Confusion Matrix\n",
    "disp = ConfusionMatrixDisplay(confusion_matrix=cm, display_labels=['Phishing', 'Non-Phishing'])\n",
    "disp.plot(cmap=plt.cm.Blues)\n",
    "plt.title('Confusion Matrix')\n",
    "plt.show()\n"
   ]
  }
 ],
 "metadata": {
  "kernelspec": {
   "display_name": "Python 3",
   "language": "python",
   "name": "python3"
  },
  "language_info": {
   "codemirror_mode": {
    "name": "ipython",
    "version": 3
   },
   "file_extension": ".py",
   "mimetype": "text/x-python",
   "name": "python",
   "nbconvert_exporter": "python",
   "pygments_lexer": "ipython3",
   "version": "3.12.3"
  }
 },
 "nbformat": 4,
 "nbformat_minor": 2
}
